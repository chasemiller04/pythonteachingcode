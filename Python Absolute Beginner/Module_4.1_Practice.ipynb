{
 "cells": [
  {
   "cell_type": "markdown",
   "metadata": {},
   "source": [
    "# Module 4 Practice\n",
    "## Nested Conditionals\n",
    "<font size=\"5\" color=\"#00A0B2\"  face=\"verdana\"> <B>Student will be able to</B></font>\n",
    "- create nested conditional logic in code  \n",
    "- print format print using escape sequence (**\\**)"
   ]
  },
  {
   "cell_type": "markdown",
   "metadata": {},
   "source": [
    "# &nbsp;\n",
    "<font size=\"6\" color=\"#B24C00\"  face=\"verdana\"> <B>Tasks</B></font>  "
   ]
  },
  {
   "cell_type": "code",
   "execution_count": 1,
   "metadata": {},
   "outputs": [
    {
     "name": "stdout",
     "output_type": "stream",
     "text": [
      "The new line character is \"\\n\"\n"
     ]
    }
   ],
   "source": [
    "# [ ] print a string that outputs the following exactly: The new line character is \"\\n\"\n",
    "\n",
    "print(\"The new line character is \\\"\\\\n\\\"\")"
   ]
  },
  {
   "cell_type": "code",
   "execution_count": 2,
   "metadata": {},
   "outputs": [
    {
     "name": "stdout",
     "output_type": "stream",
     "text": [
      "\"That's how we escape!\"\n"
     ]
    }
   ],
   "source": [
    "# [ ] print output that is exactly (with quotes): \"That's how we escape!\"\n",
    "\n",
    "print(\"\\\"That's how we escape!\\\"\")"
   ]
  },
  {
   "cell_type": "code",
   "execution_count": 3,
   "metadata": {},
   "outputs": [
    {
     "name": "stdout",
     "output_type": "stream",
     "text": [
      "1\tone\n",
      "22\ttwo\n",
      "333\tthree\n"
     ]
    }
   ],
   "source": [
    "# [ ] with only 1 print statement and using No Space Characters, output the text commented below  \n",
    "\n",
    "# 1       one\n",
    "# 22      two\n",
    "# 333     three\n",
    "\n",
    "print(\"1\\tone\\n22\\ttwo\\n333\\tthree\")\n"
   ]
  },
  {
   "cell_type": "code",
   "execution_count": null,
   "metadata": {},
   "outputs": [],
   "source": []
  },
  {
   "cell_type": "markdown",
   "metadata": {},
   "source": [
    "# &nbsp;\n",
    "## Program: quote_me() Function\n",
    "quote_me takes a string argument and returns a string that will display surrounded with **added double quotes** if printed  \n",
    "- check if passed string starts with a double quote (`\"\\\"\"`), then surround string with single quotations \n",
    "- if the passed string starts with single quote, or if doesn't start with a quotation mark, then surround with double quotations  \n",
    "\n",
    "Test the function code passing string input as the argument to quote_me() "
   ]
  },
  {
   "cell_type": "code",
   "execution_count": 4,
   "metadata": {},
   "outputs": [
    {
     "name": "stdout",
     "output_type": "stream",
     "text": [
      "\"test string 01\"\n",
      "'\"test string 02\"'\n",
      "'\"test string 03\"'\n",
      "\"'test string 04'\"\n"
     ]
    }
   ],
   "source": [
    "# [ ] create and test quote_me()\n",
    "def quote_me(string):\n",
    "    if string.startswith(\"\\\"\"):\n",
    "        return \"'\" + string + \"'\"\n",
    "    else:\n",
    "        return \"\\\"\" + string + \"\\\"\"\n",
    "    \n",
    "print(quote_me(\"test string 01\"))\n",
    "print(quote_me(\"\\\"test string 02\\\"\"))\n",
    "print(quote_me(\"\\\"test string 03\\\"\"))\n",
    "print(quote_me(\"'test string 04'\"))\n",
    "\n"
   ]
  },
  {
   "cell_type": "markdown",
   "metadata": {},
   "source": [
    "# &nbsp;\n",
    "### Program: shirt order \n",
    "First get input for color and size  \n",
    "- White has sizes L, M \n",
    "- Blue has sizes M, S  \n",
    "\n",
    "print available or unavailable, then  \n",
    "print the order confirmation of color and size  \n",
    "\n",
    "*\n",
    "**hint**: set a variable \"available = False\" before nested if statements and  \n",
    "change to True if color and size are avaliable*"
   ]
  },
  {
   "cell_type": "code",
   "execution_count": 6,
   "metadata": {},
   "outputs": [
    {
     "name": "stdout",
     "output_type": "stream",
     "text": [
      "enter shirt size (S, M, L): M\n",
      "enter shirt color (White, Blue) : Blue\n",
      "Available\n"
     ]
    }
   ],
   "source": [
    "# [ ] create shirt order using nested if \n",
    "\n",
    "size = input(\"enter shirt size (S, M, L): \")\n",
    "color = input(\"enter shirt color (White, Blue) : \")\n",
    "\n",
    "if color == 'White':\n",
    "    if size == 'L':\n",
    "        print('Available')\n",
    "    elif size == 'M':\n",
    "        print('Available')\n",
    "    else:\n",
    "        print('Unavailable')\n",
    "elif color == 'Blue':\n",
    "    if size == 'M':\n",
    "        print('Available')\n",
    "    elif size == 'S':\n",
    "        print('Available')\n",
    "    else:\n",
    "        print('Unavailable')\n",
    "else:\n",
    "    print('Unavailable')"
   ]
  },
  {
   "cell_type": "markdown",
   "metadata": {},
   "source": [
    "# &nbsp;\n",
    "## Program: str_analysis() Function\n",
    "Create the str_analysis() function that takes a string argument.  In the body of the function:\n",
    "- Check `if` string is digits  \n",
    "  - if digits: convert to `int` and check `if` greater than 99  \n",
    "    - if greater than 99, print a message about a \"big number\"  \n",
    "    - if not greater than 99, print message about \"small number\"    \n",
    "  - if not digits: check if string isalpha\n",
    "    - if isalpha print message about being all alpha\n",
    "    - if not isalpha print a message about being neither all alpha nor all digit  \n",
    "    \n",
    "call the function with a string from user input "
   ]
  },
  {
   "cell_type": "code",
   "execution_count": 9,
   "metadata": {},
   "outputs": [
    {
     "name": "stdout",
     "output_type": "stream",
     "text": [
      "enter something: 100\n",
      "big number\n"
     ]
    }
   ],
   "source": [
    "# [ ] create and test str_analysis()\n",
    "def str_analysis(string):\n",
    "    if string.isdigit():\n",
    "        string = int(string)\n",
    "        if string > 99:\n",
    "            print(\"big number\")\n",
    "        else:\n",
    "            print(\"small number\")\n",
    "    elif string.isalpha():\n",
    "        print(\"string contains only letters\")\n",
    "    else:\n",
    "        print(\"string neither all alpha nor all digit\")\n",
    "        \n",
    "string = input(\"enter something: \")\n",
    "str_analysis(string)\n",
    "            "
   ]
  },
  {
   "cell_type": "markdown",
   "metadata": {
    "collapsed": true
   },
   "source": [
    "# &nbsp;  \n",
    "### Program: ticket_check() - finds out if a seat is available  \n",
    "Call ticket_check() function with 2 arguments: *section* and *seats* requested and return True or False  \n",
    "- **section** is a string and expects: general, floor\n",
    "- **seats** is an integer and expects: 1 - 10  \n",
    "\n",
    "Check for valid section and seats\n",
    "- if section is *general* (or use startswith \"g\")  \n",
    "  - if seats is 1-10 return True \n",
    "- if section is *floor* (or use starts with \"f\")\n",
    "  - if seats is 1-4 return True  \n",
    "\n",
    "otherwise return False"
   ]
  },
  {
   "cell_type": "code",
   "execution_count": 10,
   "metadata": {},
   "outputs": [
    {
     "name": "stdout",
     "output_type": "stream",
     "text": [
      "True\n",
      "True\n",
      "False\n",
      "False\n",
      "False\n"
     ]
    }
   ],
   "source": [
    "# [ ] create and call ticket_check()\n",
    "#Call ticket_check() function with 2 arguments: section and seats requested and return True or False\n",
    "def ticket_check(section, seats):\n",
    "    if section == \"general\":\n",
    "        if 1 <= seats <= 10:\n",
    "            return True\n",
    "        else:\n",
    "            return False\n",
    "    elif section == \"floor\":\n",
    "        if 1 <= seats <= 4:\n",
    "            return True\n",
    "        else:\n",
    "            return False\n",
    "    else:\n",
    "        return False\n",
    "    \n",
    "section = 'general'\n",
    "seats = 1\n",
    "print(ticket_check(section, seats))\n",
    "section = 'floor'\n",
    "seats = 4\n",
    "print(ticket_check(section, seats))\n",
    "section = 'general'\n",
    "seats = 11\n",
    "print(ticket_check(section, seats))\n",
    "section = 'floor'\n",
    "seats = 5\n",
    "print(ticket_check(section, seats))\n",
    "section = 'roof'\n",
    "seats = 5\n",
    "print(ticket_check(section, seats))"
   ]
  },
  {
   "cell_type": "markdown",
   "metadata": {},
   "source": [
    "# Module 4 Practice 2\n",
    "## `while()` loops & increments\n",
    "<font size=\"5\" color=\"#00A0B2\"  face=\"verdana\"> <B>Student will be able to</B></font>\n",
    "- create forever loops using `while` and `break`\n",
    "- use incrementing variables in a while loop\n",
    "- control while loops using Boolean operators"
   ]
  },
  {
   "cell_type": "code",
   "execution_count": 11,
   "metadata": {},
   "outputs": [
    {
     "name": "stdout",
     "output_type": "stream",
     "text": [
      "enter an integer: 2\n",
      "enter an integer: 3\n",
      "enter an integer: 4\n",
      "enter an integer: 5\n",
      "enter an integer: 1\n",
      "enter an integer: 1\n",
      "enter an integer: 2\n",
      "enter an integer: f\n",
      "18\n"
     ]
    }
   ],
   "source": [
    "# [ ] use a \"forever\" while loop to get user input of integers to add to sum, \n",
    "# until a non-digit is entered, then break the loop and print sum\n",
    "sum = 0\n",
    "\n",
    "while True:\n",
    "    addition = input(\"enter an integer: \")\n",
    "    if addition.isdigit():\n",
    "        sum += int(addition)\n",
    "    else:\n",
    "        print(sum)\n",
    "        break"
   ]
  },
  {
   "cell_type": "code",
   "execution_count": 12,
   "metadata": {},
   "outputs": [
    {
     "name": "stdout",
     "output_type": "stream",
     "text": [
      "enter rainbow colors: red\n",
      "Wrong, try again!\n",
      "enter rainbow colors: red orange yellow green blue indigo violet\n",
      "Great!\n"
     ]
    }
   ],
   "source": [
    "# [ ] use a while True loop (forever loop) to give 4 chances for input of a correct color in a rainbow\n",
    "# rainbow = \"red orange yellow green blue indigo violet\"\n",
    "\n",
    "rainbow = \"red orange yellow green blue indigo violet\"\n",
    "cnt = 1\n",
    "get_rainbow = input(\"enter rainbow colors: \")\n",
    "\n",
    "while True:    \n",
    "    if get_rainbow == rainbow:\n",
    "        print(\"Great!\")\n",
    "        break\n",
    "    elif cnt < 4:\n",
    "        print(\"Wrong, try again!\")\n",
    "        cnt += 1\n",
    "    else:\n",
    "        break\n",
    "    get_rainbow = input(\"enter rainbow colors: \")"
   ]
  },
  {
   "cell_type": "code",
   "execution_count": 15,
   "metadata": {},
   "outputs": [
    {
     "ename": "KeyboardInterrupt",
     "evalue": "Interrupted by user",
     "output_type": "error",
     "traceback": [
      "\u001b[0;31m---------------------------------------------------------------------------\u001b[0m",
      "\u001b[0;31mKeyboardInterrupt\u001b[0m                         Traceback (most recent call last)",
      "Cell \u001b[0;32mIn[15], line 2\u001b[0m\n\u001b[1;32m      1\u001b[0m \u001b[38;5;66;03m# [ ] Get input for a book title, keep looping while input is Not in title format (title is every word capitalized)\u001b[39;00m\n\u001b[0;32m----> 2\u001b[0m title \u001b[38;5;241m=\u001b[39m \u001b[38;5;28minput\u001b[39m(\u001b[38;5;124m\"\u001b[39m\u001b[38;5;124menter a book title: \u001b[39m\u001b[38;5;124m\"\u001b[39m)\n\u001b[1;32m      4\u001b[0m \u001b[38;5;28;01mwhile\u001b[39;00m title \u001b[38;5;241m!=\u001b[39m title\u001b[38;5;241m.\u001b[39mtitle():\n\u001b[1;32m      5\u001b[0m     title \u001b[38;5;241m=\u001b[39m \u001b[38;5;28minput\u001b[39m(\u001b[38;5;124m\"\u001b[39m\u001b[38;5;124menter a book title: \u001b[39m\u001b[38;5;124m\"\u001b[39m)\n",
      "File \u001b[0;32m~/anaconda3/lib/python3.11/site-packages/ipykernel/kernelbase.py:1202\u001b[0m, in \u001b[0;36mKernel.raw_input\u001b[0;34m(self, prompt)\u001b[0m\n\u001b[1;32m   1200\u001b[0m     msg \u001b[38;5;241m=\u001b[39m \u001b[38;5;124m\"\u001b[39m\u001b[38;5;124mraw_input was called, but this frontend does not support input requests.\u001b[39m\u001b[38;5;124m\"\u001b[39m\n\u001b[1;32m   1201\u001b[0m     \u001b[38;5;28;01mraise\u001b[39;00m StdinNotImplementedError(msg)\n\u001b[0;32m-> 1202\u001b[0m \u001b[38;5;28;01mreturn\u001b[39;00m \u001b[38;5;28mself\u001b[39m\u001b[38;5;241m.\u001b[39m_input_request(\n\u001b[1;32m   1203\u001b[0m     \u001b[38;5;28mstr\u001b[39m(prompt),\n\u001b[1;32m   1204\u001b[0m     \u001b[38;5;28mself\u001b[39m\u001b[38;5;241m.\u001b[39m_parent_ident[\u001b[38;5;124m\"\u001b[39m\u001b[38;5;124mshell\u001b[39m\u001b[38;5;124m\"\u001b[39m],\n\u001b[1;32m   1205\u001b[0m     \u001b[38;5;28mself\u001b[39m\u001b[38;5;241m.\u001b[39mget_parent(\u001b[38;5;124m\"\u001b[39m\u001b[38;5;124mshell\u001b[39m\u001b[38;5;124m\"\u001b[39m),\n\u001b[1;32m   1206\u001b[0m     password\u001b[38;5;241m=\u001b[39m\u001b[38;5;28;01mFalse\u001b[39;00m,\n\u001b[1;32m   1207\u001b[0m )\n",
      "File \u001b[0;32m~/anaconda3/lib/python3.11/site-packages/ipykernel/kernelbase.py:1245\u001b[0m, in \u001b[0;36mKernel._input_request\u001b[0;34m(self, prompt, ident, parent, password)\u001b[0m\n\u001b[1;32m   1242\u001b[0m \u001b[38;5;28;01mexcept\u001b[39;00m \u001b[38;5;167;01mKeyboardInterrupt\u001b[39;00m:\n\u001b[1;32m   1243\u001b[0m     \u001b[38;5;66;03m# re-raise KeyboardInterrupt, to truncate traceback\u001b[39;00m\n\u001b[1;32m   1244\u001b[0m     msg \u001b[38;5;241m=\u001b[39m \u001b[38;5;124m\"\u001b[39m\u001b[38;5;124mInterrupted by user\u001b[39m\u001b[38;5;124m\"\u001b[39m\n\u001b[0;32m-> 1245\u001b[0m     \u001b[38;5;28;01mraise\u001b[39;00m \u001b[38;5;167;01mKeyboardInterrupt\u001b[39;00m(msg) \u001b[38;5;28;01mfrom\u001b[39;00m \u001b[38;5;28;01mNone\u001b[39;00m\n\u001b[1;32m   1246\u001b[0m \u001b[38;5;28;01mexcept\u001b[39;00m \u001b[38;5;167;01mException\u001b[39;00m:\n\u001b[1;32m   1247\u001b[0m     \u001b[38;5;28mself\u001b[39m\u001b[38;5;241m.\u001b[39mlog\u001b[38;5;241m.\u001b[39mwarning(\u001b[38;5;124m\"\u001b[39m\u001b[38;5;124mInvalid Message:\u001b[39m\u001b[38;5;124m\"\u001b[39m, exc_info\u001b[38;5;241m=\u001b[39m\u001b[38;5;28;01mTrue\u001b[39;00m)\n",
      "\u001b[0;31mKeyboardInterrupt\u001b[0m: Interrupted by user"
     ]
    }
   ],
   "source": [
    "# [ ] Get input for a book title, keep looping while input is Not in title format (title is every word capitalized)\n",
    "title = input(\"enter a book title: \")\n",
    "\n",
    "while title != title.title():\n",
    "    title = input(\"enter a book title: \")"
   ]
  },
  {
   "cell_type": "code",
   "execution_count": 17,
   "metadata": {},
   "outputs": [
    {
     "name": "stdout",
     "output_type": "stream",
     "text": [
      "How many feet are in one yard: 2\n",
      "How many feet are in one yard: 1\n",
      "How many feet are in one yard: 3\n"
     ]
    }
   ],
   "source": [
    "# [ ] create a math quiz question and ask for the solution until the input is correct\n",
    "\n",
    "while True:\n",
    "    answer = input(\"How many feet are in one yard: \")\n",
    "    if answer == '3':\n",
    "        break"
   ]
  },
  {
   "cell_type": "markdown",
   "metadata": {},
   "source": [
    "### Fix the Error"
   ]
  },
  {
   "cell_type": "code",
   "execution_count": 2,
   "metadata": {},
   "outputs": [
    {
     "name": "stdout",
     "output_type": "stream",
     "text": [
      "enter tickets remaining (0 to quit): 4\n",
      "sorry, not a winner.\n",
      "enter tickets remaining (0 to quit): 3\n",
      "you win!\n",
      "enter tickets remaining (0 to quit): 6\n",
      "you win!\n",
      "enter tickets remaining (0 to quit): 9\n",
      "you win!\n",
      "enter tickets remaining (0 to quit): 0\n",
      "Game ended\n"
     ]
    }
   ],
   "source": [
    "# [ ] review the code, run, fix the error\n",
    "tickets = int(input(\"enter tickets remaining (0 to quit): \"))\n",
    "\n",
    "while tickets > 0:\n",
    "        # if tickets are multiple of 3 then \"winner\"\n",
    "    if int(tickets/3) == tickets/3:\n",
    "        print(\"you win!\")\n",
    "    else:\n",
    "        print(\"sorry, not a winner.\")\n",
    "    tickets = int(input(\"enter tickets remaining (0 to quit): \"))\n",
    "\n",
    "print(\"Game ended\")\n"
   ]
  },
  {
   "cell_type": "markdown",
   "metadata": {},
   "source": [
    "### create a function: quiz_item()  that asks a question and tests if input is correct  \n",
    "- quiz_item()has 2 parameter **strings**: question and solution  \n",
    "- shows question, gets answer input  \n",
    "- returns True if `answer == solution` or continues to ask question until correct answer is provided  \n",
    "- use a while loop\n",
    "\n",
    "create 2 or more quiz questions that call quiz_item()  \n",
    "**Hint**: provide multiple choice or T/F answers"
   ]
  },
  {
   "cell_type": "code",
   "execution_count": 3,
   "metadata": {},
   "outputs": [
    {
     "name": "stdout",
     "output_type": "stream",
     "text": [
      "When was the last time Manchester United won the league ?\n",
      "enter your answer: 2014\n",
      "Sorry, wrong answer. Try again!\n",
      "enter your answer: 2013\n",
      "Yes!\n",
      "Where is the Empire State building located?\n",
      "enter your answer: New York\n",
      "Sorry, wrong answer. Try again!\n",
      "enter your answer: New York City\n",
      "Yes!\n"
     ]
    }
   ],
   "source": [
    "# Create quiz_item() and 2 or more quiz questions that call quiz_item()\n",
    "\n",
    "#quiz_item()has 2 parameter strings: question and solution\n",
    "def quiz_item(question, solution):\n",
    "    print(question)\n",
    "    while True:\n",
    "        answer = input(\"enter your answer: \")\n",
    "        if answer == solution:\n",
    "            print(\"Yes!\")\n",
    "            break\n",
    "            return True\n",
    "        else:\n",
    "            print(\"Sorry, wrong answer. Try again!\")\n",
    "\n",
    "question = \"When was the last time Manchester United won the league ?\"\n",
    "solution = \"2013\"\n",
    "quiz_item(question, solution)\n",
    "question = \"Where is the Empire State building located?\"\n",
    "solution = \"New York City\"\n",
    "quiz_item(question, solution)\n"
   ]
  },
  {
   "cell_type": "markdown",
   "metadata": {
    "collapsed": true
   },
   "source": [
    "[Terms of use](http://go.microsoft.com/fwlink/?LinkID=206977) &nbsp; [Privacy & cookies](https://go.microsoft.com/fwlink/?LinkId=521839) &nbsp; © 2017 Microsoft"
   ]
  }
 ],
 "metadata": {
  "anaconda-cloud": {},
  "kernelspec": {
   "display_name": "Python 3 (ipykernel)",
   "language": "python",
   "name": "python3"
  },
  "language_info": {
   "codemirror_mode": {
    "name": "ipython",
    "version": 3
   },
   "file_extension": ".py",
   "mimetype": "text/x-python",
   "name": "python",
   "nbconvert_exporter": "python",
   "pygments_lexer": "ipython3",
   "version": "3.11.5"
  }
 },
 "nbformat": 4,
 "nbformat_minor": 1
}
