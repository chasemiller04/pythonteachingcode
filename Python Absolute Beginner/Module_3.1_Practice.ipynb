{
 "cells": [
  {
   "cell_type": "markdown",
   "metadata": {},
   "source": [
    "# Module 3 Practice 1\n",
    "## Conditionals \n",
    "<font size=\"5\" color=\"#00A0B2\"  face=\"verdana\"> <B>Student will be able to</B></font>  \n",
    "- **control code flow with `if`... `else` conditional logic**  \n",
    "  - using Boolean string methods (`.isupper(), .isalpha(), .startswith()...`)  \n",
    "  - using comparision (`>, <, >=, <=, ==, !=`)  \n",
    "  - using Strings in comparisons  \n",
    "\n",
    "## `if else`\n"
   ]
  },
  {
   "cell_type": "code",
   "execution_count": 1,
   "metadata": {},
   "outputs": [
    {
     "name": "stdout",
     "output_type": "stream",
     "text": [
      "How old are you?22\n",
      "You will be 32 in a decade\n"
     ]
    }
   ],
   "source": [
    "# [ ] input a variable: age as digit and cast to int\n",
    "# if age greater than or equal to 12 then print message on age in 10 years \n",
    "# or else print message \"It is good to be\" age\n",
    "age = input(\"How old are you?\")\n",
    "age = int(age)\n",
    "\n",
    "if age >= 12:\n",
    "    print(\"You will be\" , age + 10 , \"in a decade\")\n",
    "else:\n",
    "    print(\"It is good to be\" , age)\n",
    "\n",
    "\n",
    "\n"
   ]
  },
  {
   "cell_type": "code",
   "execution_count": 2,
   "metadata": {},
   "outputs": [
    {
     "name": "stdout",
     "output_type": "stream",
     "text": [
      "Enter a number: 5\n",
      "5 greater than 100 is False\n"
     ]
    }
   ],
   "source": [
    "# [ ] input a number \n",
    "# if number IS a digit string then cast to int\n",
    "# print number \"greater than 100 is\" True/False\n",
    "# if number is NOT a digit string then message the user that \"only int is accepted\"\n",
    "\n",
    "num = input(\"Enter a number: \")\n",
    "\n",
    "\n",
    "if num.isdigit():\n",
    "    num = int(num)\n",
    "else:\n",
    "    print(\"Please enter an integer!\")\n",
    "\n",
    "if num > 100:\n",
    "    print(num , \"greater than 100 is True\")\n",
    "else:\n",
    "    print(num , \"greater than 100 is False\")\n"
   ]
  },
  {
   "cell_type": "markdown",
   "metadata": {},
   "source": [
    "### Guessing a letter A-Z  \n",
    "**check_guess()** takes 2 string arguments: **letter and guess** (both expect single alphabetical character)   \n",
    "    - if guess is not an alpha character print invalid and return False\n",
    "    - test and print if guess is \"high\" or \"low\" and return False\n",
    "    - test and print if guess is \"correct\" and return True"
   ]
  },
  {
   "cell_type": "code",
   "execution_count": 2,
   "metadata": {},
   "outputs": [],
   "source": [
    "# [ ] create check_guess()\n",
    "# call with test\n",
    "def check_guess(letter , user_guess):\n",
    "    if user_guess.isalpha():\n",
    "        if user_guess == letter:\n",
    "            print(user_guess , \"is correct!\")\n",
    "            return(True)\n",
    "        elif user_guess > letter:\n",
    "            print(user_guess , \"is too high\")\n",
    "            return(False)\n",
    "        elif user_guess < letter:\n",
    "            print((user_guess) , \"is too low\")\n",
    "            return(False)\n",
    "    else:\n",
    "        print(\"INVALID\")\n",
    "        return(False)\n",
    "\n"
   ]
  },
  {
   "cell_type": "code",
   "execution_count": 3,
   "metadata": {},
   "outputs": [
    {
     "name": "stdout",
     "output_type": "stream",
     "text": [
      "Enter a letter to guess:B\n",
      "Enter a guess:A\n",
      "A is too low\n"
     ]
    },
    {
     "data": {
      "text/plain": [
       "False"
      ]
     },
     "execution_count": 3,
     "metadata": {},
     "output_type": "execute_result"
    }
   ],
   "source": [
    "# [ ] call check_guess with user input\n",
    "letter = input(\"Enter a letter to guess:\")\n",
    "letter = letter.capitalize()\n",
    "user_guess = input(\"Enter a guess:\")\n",
    "user_guess = user_guess.capitalize()\n",
    "\n",
    "check_guess(letter, user_guess)\n",
    "\n"
   ]
  },
  {
   "cell_type": "markdown",
   "metadata": {},
   "source": [
    "### Letter Guess\n",
    "**create letter_guess() function that gives user 3 guesses**\n",
    "- takes a letter character argument for the answer letter\n",
    "- gets user input for letter guess  \n",
    "- calls check_guess() with answer and guess\n",
    "- End letter_guess if \n",
    "    - check_guess() equals True, return True  \n",
    "    - or after 3 failed attempts, return False"
   ]
  },
  {
   "cell_type": "code",
   "execution_count": 4,
   "metadata": {},
   "outputs": [
    {
     "name": "stdout",
     "output_type": "stream",
     "text": [
      "Enter a letter to guess:B\n",
      "Enter a guess:6\n",
      "INVALID\n",
      "next guess\n",
      "Enter a guess:C\n",
      "C is too high\n",
      "next guess\n",
      "Enter a guess:A\n",
      "A is too low\n",
      "User could not guess letter in 3 tries :(\n"
     ]
    }
   ],
   "source": [
    "# [ ] create letter_guess() function, call the function to test\n",
    "\n",
    "def check_guess(letter , guess):\n",
    "    if guess.isalpha():\n",
    "        if guess == letter:\n",
    "            print(guess , \"is correct!\")\n",
    "            return(True)\n",
    "        elif guess > letter:\n",
    "            print(guess , \"is too high\")\n",
    "            return(False)\n",
    "        elif guess < letter:\n",
    "            print(guess , \"is too low\")\n",
    "            return(False)\n",
    "    else:\n",
    "        print(\"INVALID\")\n",
    "        return(False)\n",
    "\n",
    "\n",
    "def letter_guess(letter_answer , count):\n",
    "    if letter_answer.isalpha():\n",
    "        letter_answer = letter_answer.capitalize()\n",
    "        guess = input(\"Enter a guess:\")\n",
    "        guess = guess.capitalize()\n",
    "        didIguessit = check_guess(letter_answer , guess)\n",
    "\n",
    "        if didIguessit == True:\n",
    "            return(True)\n",
    "        else:\n",
    "            count = count + 1\n",
    "            if count < 3:\n",
    "                print (\"next guess\")\n",
    "                letter_guess(letter_answer , count)\n",
    "            else:\n",
    "                print(\"User could not guess letter in 3 tries :(\")\n",
    "                return(False)\n",
    "    else:\n",
    "        print(\"INVALID\") \n",
    "\n",
    "\n",
    "letter_answer = input(\"Enter a letter to guess:\")\n",
    "letter_guess(letter_answer, 0)\n"
   ]
  },
  {
   "cell_type": "markdown",
   "metadata": {},
   "source": [
    "### Pet Conversation\n",
    "**ask the user for a sentence about a pet and then reply**  \n",
    "- get user input in variable: about_pet\n",
    "- using a series of **if** statements respond with appropriate conversation\n",
    "  - check if \"dog\" is in the string about_pet (sample reply \"Ah, a dog\")\n",
    "  - check if \"cat\" is in the string about_pet\n",
    "  - check if 1 or more animal is in string about_pet\n",
    "- no need for **else**'s\n",
    "- finish with thanking for the story"
   ]
  },
  {
   "cell_type": "code",
   "execution_count": 6,
   "metadata": {},
   "outputs": [
    {
     "name": "stdout",
     "output_type": "stream",
     "text": [
      "Tell me something about your pet:is a dog\n",
      "My dog once took an entire bite out of a candle.\n",
      "Thanks for telling me about your dog!\n"
     ]
    }
   ],
   "source": [
    "# [ ] complete pet conversation\n",
    "about_pet = input(\"Tell me something about your pet:\")\n",
    "about_pet = about_pet.lower()\n",
    "\n",
    "if \"dog\" in about_pet:\n",
    "    print(\"My dog once took an entire bite out of a candle.\")\n",
    "    print(\"Thanks for telling me about your dog!\")\n",
    "\n",
    "if \"cat\" in about_pet:\n",
    "    print(\"One of my elementary school friends had a cat named Billy Joel.\")\n",
    "    print(\"Thanks for telling me about your cat!\")\n",
    "\n",
    "if \"snake\" in about_pet:\n",
    "    print(\"I think one of my cousins have a bunny too.\")\n",
    "    print(\"Thanks for telling me about your bunny!\")\n",
    "\n"
   ]
  },
  {
   "cell_type": "markdown",
   "metadata": {},
   "source": [
    "# Module 3 Practice 2\n",
    "## conditionals, type, and mathematics extended   \n",
    "&nbsp;\n",
    "<font size=\"5\" color=\"#00A0B2\"  face=\"verdana\"> <B>Student will be able to</B></font>  \n",
    "- code more than two choices using **`elif`** \n",
    "- gather numeric input using type casting  \n",
    "- perform subtraction, multiplication and division operations in code  &nbsp;  \n"
   ]
  },
  {
   "cell_type": "markdown",
   "metadata": {},
   "source": [
    "# &nbsp;  \n",
    "<font size=\"6\" color=\"#B24C00\"  face=\"verdana\"> <B>Tasks</B></font>"
   ]
  },
  {
   "cell_type": "markdown",
   "metadata": {},
   "source": [
    "### Rainbow colors\n",
    "ask for input of a favorite rainbow color first letter: ROYGBIV  \n",
    "\n",
    "Using `if`, `elif`, and `else`:  \n",
    "- print the color matching the letter  \n",
    "    - R = Red  \n",
    "    - O = Orange  \n",
    "    - Y = Yellow  \n",
    "    - G = Green\n",
    "    - B = Blue\n",
    "    - I = Indigo\n",
    "    - V = Violet\n",
    "    - else print \"no match\"\n"
   ]
  },
  {
   "cell_type": "code",
   "execution_count": 7,
   "metadata": {},
   "outputs": [
    {
     "name": "stdout",
     "output_type": "stream",
     "text": [
      "What is the first letter of your favorite rainbow color? ROYGBIVR\n",
      "Red\n"
     ]
    }
   ],
   "source": [
    "# [ ] complete rainbow colors\n",
    "favorite_rainbow_color = input(\"What is the first letter of your favorite rainbow color? ROYGBIV\")\n",
    "if favorite_rainbow_color == \"R\":\n",
    "    print(\"Red\")\n",
    "elif favorite_rainbow_color == \"O\":\n",
    "    print(\"Orange\")\n",
    "elif favorite_rainbow_color == \"Y\":\n",
    "    print(\"Yellow\")\n",
    "elif favorite_rainbow_color == \"G\":\n",
    "    print(\"Green\")\n",
    "elif favorite_rainbow_color == \"B\":\n",
    "    print(\"Blue\")\n",
    "elif favorite_rainbow_color == \"I\":\n",
    "    print(\"Indigo\")\n",
    "elif favorite_rainbow_color == \"V\":\n",
    "    print(\"Violet\")\n",
    "else:\n",
    "    print(\"no match\")\n",
    "\n"
   ]
  },
  {
   "cell_type": "code",
   "execution_count": 8,
   "metadata": {},
   "outputs": [
    {
     "name": "stdout",
     "output_type": "stream",
     "text": [
      "What is your favorite rainbow color?Green\n",
      "no match\n"
     ]
    }
   ],
   "source": [
    "# [ ] make the code above into a function rainbow_color() that has a string parameter, \n",
    "# get input and call the function and return the matching color as a string or \"no match\" message.\n",
    "# Call the function and print the return string.\n",
    "def rainbow_color():\n",
    "    favorite_rainbow_color = input(\"What is your favorite rainbow color?\")\n",
    "    if favorite_rainbow_color == \"R\":\n",
    "        print(\"Red\")\n",
    "    elif favorite_rainbow_color == \"O\":\n",
    "        print(\"Orange\")\n",
    "    elif favorite_rainbow_color == \"Y\":\n",
    "        print(\"Yellow\")\n",
    "    elif favorite_rainbow_color == \"G\":\n",
    "        print(\"Green\")\n",
    "    elif favorite_rainbow_color == \"B\":\n",
    "        print(\"Blue\")\n",
    "    elif favorite_rainbow_color == \"I\":\n",
    "        print(\"Indigo\")\n",
    "    elif favorite_rainbow_color == \"V\":\n",
    "        print(\"Violet\")\n",
    "    else:\n",
    "        print(\"no match\")\n",
    "rainbow_color()\n"
   ]
  },
  {
   "cell_type": "markdown",
   "metadata": {},
   "source": [
    "# &nbsp;  \n",
    "**Create function age_20() that adds or subtracts 20 from your age for a return value based on current age** (use `if`) \n",
    "- call the funtion with user input and then use the return value in a sentence  \n",
    "example `age_20(25)` returns **5**: \n",
    "> \"5 years old, 20 years difference from now\""
   ]
  },
  {
   "cell_type": "code",
   "execution_count": 28,
   "metadata": {},
   "outputs": [
    {
     "name": "stdout",
     "output_type": "stream",
     "text": [
      "2 years old, 20 years difference from now\n",
      "35 years old, 20 years difference from now\n"
     ]
    }
   ],
   "source": [
    "# [ ] complete age_20()\n",
    "def age_20(age):\n",
    "    if age > 20:\n",
    "        return str(age - 20) + \" years old, 20 years difference from now\"\n",
    "    else:\n",
    "        return str(age + 20) + \" years old, 20 years difference from now\"\n",
    "\n",
    "print(age_20(22))\n",
    "print(age_20(15))\n"
   ]
  },
  {
   "cell_type": "markdown",
   "metadata": {},
   "source": [
    "**create a function rainbow_or_age that takes a string argument**\n",
    "- if argument is a digit return the value of calling age_20() with the str value cast as **`int`** \n",
    "- if argument is an alphabetical character return the value of calling rainbow_color() with the str\n",
    "- if neither return FALSE"
   ]
  },
  {
   "cell_type": "code",
   "execution_count": 29,
   "metadata": {},
   "outputs": [],
   "source": [
    "# [ ]  create rainbow_or_age()\n",
    "def rainbow_or_age(arg):\n",
    "    if arg.isdigit():\n",
    "        return age_20(int(arg))\n",
    "    elif arg.isalpha():\n",
    "        return rainbow_color(arg)\n",
    "    else:\n",
    "        return False"
   ]
  },
  {
   "cell_type": "code",
   "execution_count": 32,
   "metadata": {},
   "outputs": [
    {
     "ename": "TypeError",
     "evalue": "rainbow_color() takes 0 positional arguments but 1 was given",
     "output_type": "error",
     "traceback": [
      "\u001b[0;31m---------------------------------------------------------------------------\u001b[0m",
      "\u001b[0;31mTypeError\u001b[0m                                 Traceback (most recent call last)",
      "Cell \u001b[0;32mIn[32], line 2\u001b[0m\n\u001b[1;32m      1\u001b[0m arg \u001b[38;5;241m=\u001b[39m \u001b[38;5;124m'\u001b[39m\u001b[38;5;124mV\u001b[39m\u001b[38;5;124m'\u001b[39m\n\u001b[0;32m----> 2\u001b[0m \u001b[38;5;28mprint\u001b[39m(rainbow_or_age(arg))\n\u001b[1;32m      3\u001b[0m arg \u001b[38;5;241m=\u001b[39m \u001b[38;5;124m'\u001b[39m\u001b[38;5;124mR\u001b[39m\u001b[38;5;124m'\u001b[39m\n\u001b[1;32m      4\u001b[0m \u001b[38;5;28mprint\u001b[39m(rainbow_or_age(arg))\n",
      "Cell \u001b[0;32mIn[29], line 6\u001b[0m, in \u001b[0;36mrainbow_or_age\u001b[0;34m(arg)\u001b[0m\n\u001b[1;32m      4\u001b[0m     \u001b[38;5;28;01mreturn\u001b[39;00m age_20(\u001b[38;5;28mint\u001b[39m(arg))\n\u001b[1;32m      5\u001b[0m \u001b[38;5;28;01melif\u001b[39;00m arg\u001b[38;5;241m.\u001b[39misalpha():\n\u001b[0;32m----> 6\u001b[0m     \u001b[38;5;28;01mreturn\u001b[39;00m rainbow_color(arg)\n\u001b[1;32m      7\u001b[0m \u001b[38;5;28;01melse\u001b[39;00m:\n\u001b[1;32m      8\u001b[0m     \u001b[38;5;28;01mreturn\u001b[39;00m \u001b[38;5;28;01mFalse\u001b[39;00m\n",
      "\u001b[0;31mTypeError\u001b[0m: rainbow_color() takes 0 positional arguments but 1 was given"
     ]
    }
   ],
   "source": [
    "arg = 'V'\n",
    "print(rainbow_or_age(arg))\n",
    "arg = 'R'\n",
    "print(rainbow_or_age(arg))\n",
    "arg = 'Z'\n",
    "print(rainbow_or_age(arg))\n",
    "arg = '24'\n",
    "print(rainbow_or_age(arg))\n",
    "arg = '19'\n",
    "print(rainbow_or_age(arg))\n",
    "arg = '0'\n",
    "print(rainbow_or_age(arg))\n",
    "arg = 'someting'\n",
    "print(rainbow_or_age(arg))\n",
    "arg = '?'\n",
    "print(rainbow_or_age(arg))"
   ]
  },
  {
   "cell_type": "code",
   "execution_count": 21,
   "metadata": {},
   "outputs": [
    {
     "name": "stdout",
     "output_type": "stream",
     "text": [
      "This is an addition calculator\n",
      "Enter a number:6\n",
      "Enter a second number:9\n",
      "6 + 9 = 15\n"
     ]
    }
   ],
   "source": [
    "# [ ]  add 2 numbers from input using a cast to integer and display the answer \n",
    "print(\"This is an addition calculator\")\n",
    "num_1= int(input(\"Enter a number:\"))\n",
    "num_2= int(input(\"Enter a second number:\"))\n",
    "\n",
    "total= num_1 + num_2\n",
    "print(num_1,\"+\",num_2,\"=\", total)\n"
   ]
  },
  {
   "cell_type": "code",
   "execution_count": 20,
   "metadata": {},
   "outputs": [
    {
     "name": "stdout",
     "output_type": "stream",
     "text": [
      "This is an multiplying calculator\n",
      "Enter a number:9\n",
      "Enter a second number:9\n",
      "The answer is 81\n"
     ]
    }
   ],
   "source": [
    "# [ ] Multiply 2 numbers from input using cast and save the answer as part of a string \"the answer is...\"\n",
    "# display the string using print\n",
    "\n",
    "print(\"This is an multiplying calculator\")\n",
    "one= int(input(\"Enter a number:\"))\n",
    "two= int(input(\"Enter a second number:\"))\n",
    "\n",
    "result= one * two\n",
    "print(\"The answer is\", result)"
   ]
  },
  {
   "cell_type": "code",
   "execution_count": 19,
   "metadata": {},
   "outputs": [
    {
     "name": "stdout",
     "output_type": "stream",
     "text": [
      "This is an average calculator\n",
      "Enter a number:8\n",
      "Enter a second number:8\n",
      "The average is 8.0\n"
     ]
    }
   ],
   "source": [
    "# [ ] get input of 2 numbers and display the average: (num1 + num2) divided by 2\n",
    "print(\"This is an average calculator\")\n",
    "num1 = int(input(\"Enter a number:\"))\n",
    "num2 = int(input(\"Enter a second number:\"))\n",
    "\n",
    "average= (num1 + num2)/2\n",
    "print(\"The average is\", average)\n"
   ]
  },
  {
   "cell_type": "code",
   "execution_count": 17,
   "metadata": {},
   "outputs": [
    {
     "name": "stdout",
     "output_type": "stream",
     "text": [
      "Enter a number:5\n",
      "Enter a second number:9\n",
      "-4\n"
     ]
    }
   ],
   "source": [
    "# [ ] get input of 2 numbers and subtract the largest from the smallest (use an if statement to see which is larger)\n",
    "# show the answer\n",
    "value1 = int(input(\"Enter a number:\"))\n",
    "value2 = int(input(\"Enter a second number:\"))\n",
    "\n",
    "if value1 > value2:\n",
    "    print(value2 - value1)\n",
    "else:\n",
    "    print(value1 - value2)\n"
   ]
  },
  {
   "cell_type": "code",
   "execution_count": 18,
   "metadata": {},
   "outputs": [
    {
     "name": "stdout",
     "output_type": "stream",
     "text": [
      "2\n"
     ]
    }
   ],
   "source": [
    "# [ ] Divide a larger number by a smaller number and print the integer part of the result\n",
    "# don't divide by zero! if a zero is input make the result zero\n",
    "# [ ] cast the answer to an integer to cut off the decimals and print the result\n",
    "\n",
    "large_num = 12\n",
    "small_num = 6\n",
    "\n",
    "if small_num == 0:\n",
    "   print(0)\n",
    "else: \n",
    "   division = large_num / small_num\n",
    "   print(int(division))"
   ]
  },
  {
   "cell_type": "markdown",
   "metadata": {
    "collapsed": true
   },
   "source": [
    "[Terms of use](http://go.microsoft.com/fwlink/?LinkID=206977) &nbsp; [Privacy & cookies](https://go.microsoft.com/fwlink/?LinkId=521839) &nbsp; © 2017 Microsoft"
   ]
  }
 ],
 "metadata": {
  "anaconda-cloud": {},
  "kernelspec": {
   "display_name": "Python 3 (ipykernel)",
   "language": "python",
   "name": "python3"
  },
  "language_info": {
   "codemirror_mode": {
    "name": "ipython",
    "version": 3
   },
   "file_extension": ".py",
   "mimetype": "text/x-python",
   "name": "python",
   "nbconvert_exporter": "python",
   "pygments_lexer": "ipython3",
   "version": "3.11.5"
  }
 },
 "nbformat": 4,
 "nbformat_minor": 1
}
